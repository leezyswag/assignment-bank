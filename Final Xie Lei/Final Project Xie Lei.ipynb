{
 "metadata": {
  "name": "",
  "signature": "sha256:ebee82bc1028cc053944bb80b0e4d3cedbd3b5e5c886a6f1d183a3db035234ce"
 },
 "nbformat": 3,
 "nbformat_minor": 0,
 "worksheets": [
  {
   "cells": [
    {
     "cell_type": "heading",
     "level": 1,
     "metadata": {},
     "source": [
      "Fick's laws of diffusion"
     ]
    },
    {
     "cell_type": "markdown",
     "metadata": {},
     "source": [
      "Fick's laws of diffusion describe diffusion and can be used to solve for the diffusion coefficient. They were derived by Adolf Fick in 1855."
     ]
    },
    {
     "cell_type": "heading",
     "level": 2,
     "metadata": {},
     "source": [
      "Fick's first law"
     ]
    },
    {
     "cell_type": "markdown",
     "metadata": {},
     "source": [
      "Fick's first law relates the diffusive flux to the concentration under the assumption of steady state. It assumes that the flux goes from regions of high concentration to regions of low concentration, with a magnitude that is proportional to the concentration gradient (spatial derivative). In one (spatial) dimension, the law is:\n",
      "$$J = -D \\frac{\\partial \\phi}{\\partial x}$$"
     ]
    },
    {
     "cell_type": "markdown",
     "metadata": {},
     "source": [
      "Where"
     ]
    },
    {
     "cell_type": "markdown",
     "metadata": {},
     "source": [
      "$J$ is the \"diffusion flux\"(amount of substance per unit area per unit time),for example\n",
      "($\\frac{mol}{m^2*s}$) . $J$ measures the total amount of substance that will flow through a small area during a small time interval\n",
      "\n",
      "$D$ is the diffusion coefficient in dimensions of [length2 time\u22121],for example ($\\frac{m^2}{s}$)\n",
      "\n",
      "$\\phi$ is the concentration in dimensions of [amount of substance per unit volume] ($\\frac{mol}{m^3}$)\n",
      "\n",
      "$x$ is the position"
     ]
    },
    {
     "cell_type": "markdown",
     "metadata": {},
     "source": [
      "According to the Stokes-Einstein relation, $D$ is proportional to the squared velocity of the diffusing particles, which depends on the temperature, viscosity of the fluid and the size of the particles.In dilute aqueous solutions the diffusion coefficients of most ions are similar and have values that at room temperature are in the range of $0.6x10^{-9}$ to $2x10^{-9} m^2/s$. For biological molecules the diffusion coefficients normally range from $10^{\u221211}$ to $10^{\u221210} m^2/s$.In 2 dimensions or more, we could use$\\nabla$,which generalises the first derivative, obtaining\n",
      "$$J = -D \\nabla \\phi$$"
     ]
    },
    {
     "cell_type": "markdown",
     "metadata": {},
     "source": [
      "For ideal mixtures is the concentration gradient, the driving force for the 1-D diffusion is the quantity $-\\frac{\\partial C}{\\partial x}$. In chemical systems other than ideal solutions or mixtures, the driving force for diffusion of each species is the gradient of chemical potential of this species. Then the Fick's first law could be writen as: \n",
      "$$J_i = -\\frac{Dc_i}{RT}\\frac{\\partial \\mu_i}{\\partial x}$$"
     ]
    },
    {
     "cell_type": "markdown",
     "metadata": {},
     "source": [
      "where $i$ represent $i$th species, $c$ is the concentration ($mol/m^3$), $R$ is the universal gas constant ($J/K\u00b7mol$), $T$ is the absolute temperature ($K$), and $\\mu$ is the chemical potential ($J/mol$)."
     ]
    },
    {
     "cell_type": "heading",
     "level": 2,
     "metadata": {},
     "source": [
      "Fick's second law"
     ]
    },
    {
     "cell_type": "markdown",
     "metadata": {},
     "source": [
      "Fick's second law predicts how diffusion causes the concentration to change with time:\n",
      "$$\\frac{\\partial \\phi}{\\partial t} = D\\frac{\\partial^2\\phi}{\\partial x^2}$$"
     ]
    },
    {
     "cell_type": "markdown",
     "metadata": {},
     "source": [
      "where, $t$ is time [s]"
     ]
    },
    {
     "cell_type": "markdown",
     "metadata": {},
     "source": [
      "This could be derived by Fick's first law\n",
      "\n",
      "$$\\frac{\\partial \\phi}{\\partial t} = -\\frac{\\partial}{\\partial x}J = \\frac{\\partial}{\\partial x}(D\\frac{\\partial}{\\partial x}\\phi)$$"
     ]
    },
    {
     "cell_type": "markdown",
     "metadata": {},
     "source": [
      "Assuming diffusion coefficent $D$ is a constant, using the chain rule, obtaining\n",
      "$$\\frac{\\partial}{\\partial x}(D\\frac{\\partial}{\\partial x}\\phi) = D\\frac{\\partial}{\\partial x}\\frac{\\partial}{\\partial x}\\phi = D\\frac{\\partial^2\\phi}{\\partial x^2}$$"
     ]
    },
    {
     "cell_type": "markdown",
     "metadata": {},
     "source": [
      "from this we could get the equation above"
     ]
    },
    {
     "cell_type": "markdown",
     "metadata": {},
     "source": [
      "For 2-D or more dimensions diffusion, the Fick's second law is:\n",
      "$$\\frac{\\partial \\phi}{\\partial t} = D\\nabla^2\\phi$$"
     ]
    },
    {
     "cell_type": "markdown",
     "metadata": {},
     "source": [
      "If diffusion coefficent is not constant, but it's quantity depends on concentration, then Fick's second law becomes:\n",
      "$$\\frac{\\partial\\phi}{\\partial t} = \\nabla\u00b7(D\\nabla\\phi)$$\n",
      "When $\\nabla$ is at a steady state, the concentration wouldn't change by time, LHS equals 0. In one dimension with constant $D$, the solution for the concentration will be a linear change of concentrations along $x$. In two or more dimensions we obtain\n",
      "$$\\nabla^2\\phi = 0$$\n",
      "which is also called Laplace's equation."
     ]
    },
    {
     "cell_type": "heading",
     "level": 2,
     "metadata": {},
     "source": [
      "Molecular diffusion"
     ]
    },
    {
     "cell_type": "markdown",
     "metadata": {},
     "source": [
      "Fick's law describe Molecular diffusion from a microscopic and macroscopic point of view. Assuming a container, with a barrier in the middle of it. There are solute molecules on the left side of barrier and none on the right. Now we remove the barrier and see what will happen. The solute diffuses to fill the whole container. When there is only a single, it moves around randomly. With more molecules, there is a clear trend where the solute fills the whole container more and more uniformly.  With an enormous number of solute molecules, randomness becomes undetectable: The solute appears to move smoothly and systematically from left side to right. The smooth flow is described by Fick's laws."
     ]
    },
    {
     "cell_type": "heading",
     "level": 3,
     "metadata": {},
     "source": [
      "problem set up"
     ]
    },
    {
     "cell_type": "markdown",
     "metadata": {},
     "source": [
      "Now we set up a ideal condition, in a pipe full of liquid, with length of 1$m$, with concentration $\\phi$=0 everywhere. On the left side,$x$=0, there are solute molecules, the concentration $\\phi$= 200$mol/m^3$. Assuming the diffusion coefficient $D$= $2.03\u00d710^{-3}m^2/s$. Let's see how will the concentration evolve in the pipe.\n",
      "\n",
      "First, we'll begin by using a forward-time/centered scheme."
     ]
    },
    {
     "cell_type": "code",
     "collapsed": false,
     "input": [
      "import numpy\n",
      "import matplotlib.pyplot as plt\n",
      "%matplotlib inline\n",
      "from matplotlib import rcParams\n",
      "rcParams['font.family'] = 'serif'\n",
      "rcParams['font.size'] = 16"
     ],
     "language": "python",
     "metadata": {},
     "outputs": [],
     "prompt_number": 12
    },
    {
     "cell_type": "code",
     "collapsed": false,
     "input": [
      "L = 1.                     #Length of pipe\n",
      "nt = 100                   #time steps\n",
      "nx = 51.                   #steps of space\n",
      "D = 2.03e-3                #Diffusion coefficient\n",
      "\n",
      "dx = L/(nx-1)              \n",
      "\n",
      "Phii = numpy.zeros(nx)\n",
      "Phii[0] = 200"
     ],
     "language": "python",
     "metadata": {},
     "outputs": [],
     "prompt_number": 13
    },
    {
     "cell_type": "markdown",
     "metadata": {},
     "source": [
      "Fick's second law in 1-D:\n",
      "$$\\frac{\\partial \\phi}{\\partial t} = D\\frac{\\partial^2\\phi}{\\partial x^2}$$\n",
      "using forward-time/centered scheme, equation becomes:\n",
      "$$\\frac{\\phi_{i}^{n+1}-\\phi_{i}^{n}}{\\Delta t} = D\\frac{\\phi_{i+1}^{n}-2\\phi_{i}^{n}+\\phi_{i-1}^{n}}{\\Delta x^2}$$"
     ]
    },
    {
     "cell_type": "markdown",
     "metadata": {},
     "source": [
      "To obtain the concentration at the next time step $\\phi_{i}^{n+1}$, we compute:\n",
      "$$\\phi_{i}^{n+1} = \\phi_{i}^{n}+\\frac{D\\Delta t}{\\Delta x^2}(\\phi_{i+1}^n-2\\phi_{i}^{n}+\\phi_{i-1}^{n})$$"
     ]
    },
    {
     "cell_type": "markdown",
     "metadata": {},
     "source": [
      "The following function implements this numerical scheme:"
     ]
    },
    {
     "cell_type": "code",
     "collapsed": false,
     "input": [
      "def ftcs(Phi, nt, dt, dx, D):\n",
      "   \n",
      "    for n in range(nt):  \n",
      "        Phin = Phi.copy() \n",
      "        Phi[1:-1] = Phin[1:-1] + D*dt/dx**2*(Phin[2:] -2*Phin[1:-1] + Phin[0:-2])\n",
      "        Phi[-1] = Phi[-2]   #To enforce Neumann boundary condition at the right side of the pipe\n",
      "        \n",
      "    return Phi"
     ],
     "language": "python",
     "metadata": {},
     "outputs": [],
     "prompt_number": 14
    },
    {
     "cell_type": "markdown",
     "metadata": {},
     "source": [
      "Now we use a time step to satisfies the stability constraint"
     ]
    },
    {
     "cell_type": "code",
     "collapsed": false,
     "input": [
      "sigma = 1/2.0\n",
      "dt = sigma * dx*dx/D\n",
      "Phi = Phii.copy()\n",
      "Phi = ftcs(Phi, nt, dt, dx, D)"
     ],
     "language": "python",
     "metadata": {},
     "outputs": [],
     "prompt_number": 15
    },
    {
     "cell_type": "code",
     "collapsed": false,
     "input": [
      "plt.plot(numpy.linspace(0,1,nx), Phi, color='#003366', ls='-', lw=3)\n",
      "plt.ylim(0,200)\n",
      "plt.xlabel('Length of Pipe')\n",
      "plt.ylabel('Concentration');"
     ],
     "language": "python",
     "metadata": {},
     "outputs": [
      {
       "metadata": {},
       "output_type": "display_data",
       "png": "[encoded data removed]",
       "text": [
        "<matplotlib.figure.Figure at 0x779eba8>"
       ]
      }
     ],
     "prompt_number": 16
    },
    {
     "cell_type": "markdown",
     "metadata": {},
     "source": [
      "It seems like the problem has not evolved for long enough time for the solute to fill the whole pipe. What about increasing the number of timesteps and see what happens?"
     ]
    },
    {
     "cell_type": "code",
     "collapsed": false,
     "input": [
      "nt = 2000\n",
      "Phi = Phii.copy()\n",
      "Phi = ftcs(Phi, nt, dt, dx, D)"
     ],
     "language": "python",
     "metadata": {},
     "outputs": [],
     "prompt_number": 20
    },
    {
     "cell_type": "code",
     "collapsed": false,
     "input": [
      "plt.plot(numpy.linspace(0,1,nx), Phi, color='#003366', ls='-', lw=3)\n",
      "plt.ylim(0,200)\n",
      "plt.xlabel('Length of Pipe')\n",
      "plt.ylabel('Concentration');"
     ],
     "language": "python",
     "metadata": {},
     "outputs": [
      {
       "metadata": {},
       "output_type": "display_data",
       "png": "[encoded data removed]",
       "text": [
        "<matplotlib.figure.Figure at 0x77409b0>"
       ]
      }
     ],
     "prompt_number": 21
    },
    {
     "cell_type": "markdown",
     "metadata": {},
     "source": [
      "That's what we got! And if the number of timesteps continues to increase, the concentration at $x$=1 will continue to increase.\n",
      "\n",
      "That is what the Fick's law describes.\n",
      "\n",
      "\n",
      "\n",
      "\n",
      "\n",
      "\n"
     ]
    },
    {
     "cell_type": "code",
     "collapsed": false,
     "input": [
      "from IPython.core.display import HTML\n",
      "css_file = '../../Final-Project-MAE6286/numericalmoocstyle.css'\n",
      "HTML(open(css_file, \"r\").read())"
     ],
     "language": "python",
     "metadata": {},
     "outputs": [
      {
       "ename": "IOError",
       "evalue": "[Errno 2] No such file or directory: '../../Final-Project-MAE6286/numericalmoocstyle.css'",
       "output_type": "pyerr",
       "traceback": [
        "\u001b[1;31m---------------------------------------------------------------------------\u001b[0m\n\u001b[1;31mIOError\u001b[0m                                   Traceback (most recent call last)",
        "\u001b[1;32m<ipython-input-1-50302300ae31>\u001b[0m in \u001b[0;36m<module>\u001b[1;34m()\u001b[0m\n\u001b[0;32m      1\u001b[0m \u001b[1;32mfrom\u001b[0m \u001b[0mIPython\u001b[0m\u001b[1;33m.\u001b[0m\u001b[0mcore\u001b[0m\u001b[1;33m.\u001b[0m\u001b[0mdisplay\u001b[0m \u001b[1;32mimport\u001b[0m \u001b[0mHTML\u001b[0m\u001b[1;33m\u001b[0m\u001b[0m\n\u001b[0;32m      2\u001b[0m \u001b[0mcss_file\u001b[0m \u001b[1;33m=\u001b[0m \u001b[1;34m'../../Final-Project-MAE6286/numericalmoocstyle.css'\u001b[0m\u001b[1;33m\u001b[0m\u001b[0m\n\u001b[1;32m----> 3\u001b[1;33m \u001b[0mHTML\u001b[0m\u001b[1;33m(\u001b[0m\u001b[0mopen\u001b[0m\u001b[1;33m(\u001b[0m\u001b[0mcss_file\u001b[0m\u001b[1;33m,\u001b[0m \u001b[1;34m\"r\"\u001b[0m\u001b[1;33m)\u001b[0m\u001b[1;33m.\u001b[0m\u001b[0mread\u001b[0m\u001b[1;33m(\u001b[0m\u001b[1;33m)\u001b[0m\u001b[1;33m)\u001b[0m\u001b[1;33m\u001b[0m\u001b[0m\n\u001b[0m",
        "\u001b[1;31mIOError\u001b[0m: [Errno 2] No such file or directory: '../../Final-Project-MAE6286/numericalmoocstyle.css'"
       ]
      }
     ],
     "prompt_number": 1
    },
    {
     "cell_type": "code",
     "collapsed": false,
     "input": [],
     "language": "python",
     "metadata": {},
     "outputs": []
    }
   ],
   "metadata": {}
  }
 ]
}